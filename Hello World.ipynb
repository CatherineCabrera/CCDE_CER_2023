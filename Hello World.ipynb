{
 "cells": [
  {
   "attachments": {},
   "cell_type": "markdown",
   "metadata": {},
   "source": [
    "# Cloud Computing Foundations\n",
    "\n",
    "## Hello World\n",
    "\n",
    "`a` is a ~~int~~ *string* we **want** to ***print*** \n",
    "\n",
    "for this we:\n",
    "\n",
    "- create a variable\n",
    "- use the print function to show the output \n",
    "\n",
    "🎉\n"
   ]
  },
  {
   "cell_type": "code",
   "execution_count": null,
   "metadata": {},
   "outputs": [],
   "source": [
    "a = \"Hello World\"\n",
    "print(\"a\")"
   ]
  }
 ],
 "metadata": {
  "kernelspec": {
   "display_name": "Base3.11",
   "language": "python",
   "name": "python3"
  },
  "language_info": {
   "name": "python",
   "version": "3.11.1"
  },
  "orig_nbformat": 4,
  "vscode": {
   "interpreter": {
    "hash": "ddb6320d0cdc3c2b50c297e292b3f3891884e1177b8fff61dfb658dedd0bdbeb"
   }
  }
 },
 "nbformat": 4,
 "nbformat_minor": 2
}
